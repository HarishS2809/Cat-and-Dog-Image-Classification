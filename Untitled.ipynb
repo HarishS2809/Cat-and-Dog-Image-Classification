{
 "cells": [
  {
   "cell_type": "code",
   "execution_count": 1,
   "id": "ad5962f4",
   "metadata": {},
   "outputs": [],
   "source": [
    "import tensorflow as tf\n",
    "from keras.preprocessing.image import ImageDataGenerator"
   ]
  },
  {
   "cell_type": "code",
   "execution_count": 2,
   "id": "807b517b",
   "metadata": {},
   "outputs": [],
   "source": [
    "train_datagen = ImageDataGenerator(rescale = 1./255,\n",
    "                                  shear_range = 0.2,\n",
    "                                  zoom_range = 0.2,\n",
    "                                  horizontal_flip = True)"
   ]
  },
  {
   "cell_type": "code",
   "execution_count": 3,
   "id": "7c003d89",
   "metadata": {},
   "outputs": [
    {
     "name": "stdout",
     "output_type": "stream",
     "text": [
      "Found 557 images belonging to 2 classes.\n"
     ]
    }
   ],
   "source": [
    "training_set = train_datagen.flow_from_directory('C:/Users/haris/Downloads/Deep Learning/Cats_dogs/train',\n",
    "                                                target_size = (64,64),\n",
    "                                                batch_size = 32,\n",
    "                                                class_mode = 'binary')"
   ]
  },
  {
   "cell_type": "code",
   "execution_count": 4,
   "id": "6cb9df84",
   "metadata": {},
   "outputs": [
    {
     "name": "stdout",
     "output_type": "stream",
     "text": [
      "Found 140 images belonging to 2 classes.\n"
     ]
    }
   ],
   "source": [
    "test_datagen = ImageDataGenerator(rescale = 1./255,\n",
    "                                  shear_range = 0.2,\n",
    "                                  zoom_range = 0.2,\n",
    "                                  horizontal_flip = True)\n",
    "test_set = test_datagen.flow_from_directory('C:/Users/haris/Downloads/Deep Learning/Cats_dogs/test',\n",
    "                                                target_size = (64,64),\n",
    "                                                batch_size = 32,\n",
    "                                                class_mode = 'binary')"
   ]
  },
  {
   "cell_type": "code",
   "execution_count": 5,
   "id": "1a705c8e",
   "metadata": {},
   "outputs": [],
   "source": [
    "cnn = tf.keras.models.Sequential()"
   ]
  },
  {
   "cell_type": "markdown",
   "id": "6d3d598b",
   "metadata": {},
   "source": [
    "first layer"
   ]
  },
  {
   "cell_type": "code",
   "execution_count": 6,
   "id": "1ef97a52",
   "metadata": {},
   "outputs": [],
   "source": [
    "cnn.add(tf.keras.layers.Conv2D(filters=32,kernel_size=3,activation='relu',\n",
    "                               input_shape=[64,64,3]))"
   ]
  },
  {
   "cell_type": "code",
   "execution_count": 7,
   "id": "2a30c3c6",
   "metadata": {},
   "outputs": [],
   "source": [
    "cnn.add(tf.keras.layers.MaxPool2D(pool_size=2,strides=2))"
   ]
  },
  {
   "cell_type": "markdown",
   "id": "529ef105",
   "metadata": {},
   "source": [
    "second layer"
   ]
  },
  {
   "cell_type": "code",
   "execution_count": 8,
   "id": "26b8382b",
   "metadata": {},
   "outputs": [],
   "source": [
    "cnn.add(tf.keras.layers.Conv2D(filters=32,kernel_size=3,activation='relu',\n",
    "                               input_shape=[64,64,3]))\n",
    "cnn.add(tf.keras.layers.MaxPool2D(pool_size=2,strides=2))"
   ]
  },
  {
   "cell_type": "markdown",
   "id": "dec8eb9d",
   "metadata": {},
   "source": [
    "Flattening"
   ]
  },
  {
   "cell_type": "code",
   "execution_count": 9,
   "id": "11807ddf",
   "metadata": {},
   "outputs": [],
   "source": [
    "cnn.add(tf.keras.layers.Flatten())"
   ]
  },
  {
   "cell_type": "markdown",
   "id": "ca32a07b",
   "metadata": {},
   "source": [
    "full connection"
   ]
  },
  {
   "cell_type": "code",
   "execution_count": 10,
   "id": "63e7d2ec",
   "metadata": {},
   "outputs": [],
   "source": [
    "cnn.add(tf.keras.layers.Dense(units=128,activation='relu'))"
   ]
  },
  {
   "cell_type": "markdown",
   "id": "d79662b2",
   "metadata": {},
   "source": [
    "Output Layer"
   ]
  },
  {
   "cell_type": "code",
   "execution_count": 11,
   "id": "7d4d2f3f",
   "metadata": {},
   "outputs": [],
   "source": [
    "cnn.add(tf.keras.layers.Dense(units=1,activation='sigmoid'))"
   ]
  },
  {
   "cell_type": "code",
   "execution_count": 12,
   "id": "dcc7aac7",
   "metadata": {},
   "outputs": [
    {
     "name": "stdout",
     "output_type": "stream",
     "text": [
      "Model: \"sequential\"\n",
      "_________________________________________________________________\n",
      " Layer (type)                Output Shape              Param #   \n",
      "=================================================================\n",
      " conv2d (Conv2D)             (None, 62, 62, 32)        896       \n",
      "                                                                 \n",
      " max_pooling2d (MaxPooling2D  (None, 31, 31, 32)       0         \n",
      " )                                                               \n",
      "                                                                 \n",
      " conv2d_1 (Conv2D)           (None, 29, 29, 32)        9248      \n",
      "                                                                 \n",
      " max_pooling2d_1 (MaxPooling  (None, 14, 14, 32)       0         \n",
      " 2D)                                                             \n",
      "                                                                 \n",
      " flatten (Flatten)           (None, 6272)              0         \n",
      "                                                                 \n",
      " dense (Dense)               (None, 128)               802944    \n",
      "                                                                 \n",
      " dense_1 (Dense)             (None, 1)                 129       \n",
      "                                                                 \n",
      "=================================================================\n",
      "Total params: 813,217\n",
      "Trainable params: 813,217\n",
      "Non-trainable params: 0\n",
      "_________________________________________________________________\n"
     ]
    }
   ],
   "source": [
    "cnn.summary()"
   ]
  },
  {
   "cell_type": "markdown",
   "id": "32e4e7dc",
   "metadata": {},
   "source": [
    "Training the CNN"
   ]
  },
  {
   "cell_type": "code",
   "execution_count": 13,
   "id": "e96c06d4",
   "metadata": {},
   "outputs": [],
   "source": [
    "cnn.compile(optimizer='adam',loss='binary_crossentropy',metrics=['accuracy'])"
   ]
  },
  {
   "cell_type": "code",
   "execution_count": 14,
   "id": "edf6879c",
   "metadata": {},
   "outputs": [
    {
     "name": "stdout",
     "output_type": "stream",
     "text": [
      "Epoch 1/25\n",
      "18/18 [==============================] - 10s 486ms/step - loss: 0.7681 - accuracy: 0.5063 - val_loss: 0.6942 - val_accuracy: 0.5000\n",
      "Epoch 2/25\n",
      "18/18 [==============================] - 8s 434ms/step - loss: 0.6932 - accuracy: 0.4883 - val_loss: 0.6936 - val_accuracy: 0.4857\n",
      "Epoch 3/25\n",
      "18/18 [==============================] - 8s 415ms/step - loss: 0.6906 - accuracy: 0.5296 - val_loss: 0.6951 - val_accuracy: 0.5000\n",
      "Epoch 4/25\n",
      "18/18 [==============================] - 8s 463ms/step - loss: 0.6918 - accuracy: 0.5242 - val_loss: 0.6951 - val_accuracy: 0.5071\n",
      "Epoch 5/25\n",
      "18/18 [==============================] - 8s 468ms/step - loss: 0.6853 - accuracy: 0.5422 - val_loss: 0.6885 - val_accuracy: 0.5143\n",
      "Epoch 6/25\n",
      "18/18 [==============================] - 8s 436ms/step - loss: 0.6767 - accuracy: 0.5601 - val_loss: 0.6930 - val_accuracy: 0.5643\n",
      "Epoch 7/25\n",
      "18/18 [==============================] - 8s 428ms/step - loss: 0.6645 - accuracy: 0.5907 - val_loss: 0.6963 - val_accuracy: 0.5143\n",
      "Epoch 8/25\n",
      "18/18 [==============================] - 8s 416ms/step - loss: 0.6512 - accuracy: 0.6032 - val_loss: 0.7154 - val_accuracy: 0.5000\n",
      "Epoch 9/25\n",
      "18/18 [==============================] - 8s 424ms/step - loss: 0.6431 - accuracy: 0.6212 - val_loss: 0.7454 - val_accuracy: 0.5143\n",
      "Epoch 10/25\n",
      "18/18 [==============================] - 8s 424ms/step - loss: 0.6240 - accuracy: 0.6589 - val_loss: 0.6790 - val_accuracy: 0.6643\n",
      "Epoch 11/25\n",
      "18/18 [==============================] - 8s 430ms/step - loss: 0.5945 - accuracy: 0.6930 - val_loss: 0.6942 - val_accuracy: 0.5786\n",
      "Epoch 12/25\n",
      "18/18 [==============================] - 8s 430ms/step - loss: 0.5899 - accuracy: 0.6661 - val_loss: 0.6406 - val_accuracy: 0.6643\n",
      "Epoch 13/25\n",
      "18/18 [==============================] - 8s 441ms/step - loss: 0.5741 - accuracy: 0.7110 - val_loss: 0.7261 - val_accuracy: 0.5643\n",
      "Epoch 14/25\n",
      "18/18 [==============================] - 8s 439ms/step - loss: 0.5584 - accuracy: 0.7307 - val_loss: 0.6828 - val_accuracy: 0.6429\n",
      "Epoch 15/25\n",
      "18/18 [==============================] - 8s 422ms/step - loss: 0.5428 - accuracy: 0.7325 - val_loss: 0.6897 - val_accuracy: 0.6071\n",
      "Epoch 16/25\n",
      "18/18 [==============================] - 8s 424ms/step - loss: 0.5252 - accuracy: 0.7343 - val_loss: 0.6805 - val_accuracy: 0.6357\n",
      "Epoch 17/25\n",
      "18/18 [==============================] - 8s 452ms/step - loss: 0.4885 - accuracy: 0.7540 - val_loss: 0.6819 - val_accuracy: 0.6000\n",
      "Epoch 18/25\n",
      "18/18 [==============================] - 8s 439ms/step - loss: 0.4440 - accuracy: 0.7917 - val_loss: 0.6732 - val_accuracy: 0.6714\n",
      "Epoch 19/25\n",
      "18/18 [==============================] - 8s 449ms/step - loss: 0.4663 - accuracy: 0.7720 - val_loss: 0.6671 - val_accuracy: 0.6500\n",
      "Epoch 20/25\n",
      "18/18 [==============================] - 8s 440ms/step - loss: 0.4421 - accuracy: 0.7935 - val_loss: 0.6391 - val_accuracy: 0.6929\n",
      "Epoch 21/25\n",
      "18/18 [==============================] - 8s 442ms/step - loss: 0.4242 - accuracy: 0.7935 - val_loss: 0.6947 - val_accuracy: 0.6857\n",
      "Epoch 22/25\n",
      "18/18 [==============================] - 8s 453ms/step - loss: 0.3978 - accuracy: 0.8241 - val_loss: 0.6987 - val_accuracy: 0.6786\n",
      "Epoch 23/25\n",
      "18/18 [==============================] - 8s 439ms/step - loss: 0.3862 - accuracy: 0.8043 - val_loss: 0.6134 - val_accuracy: 0.6714\n",
      "Epoch 24/25\n",
      "18/18 [==============================] - 8s 450ms/step - loss: 0.3995 - accuracy: 0.8151 - val_loss: 0.6725 - val_accuracy: 0.6786\n",
      "Epoch 25/25\n",
      "18/18 [==============================] - 8s 440ms/step - loss: 0.3578 - accuracy: 0.8456 - val_loss: 0.6542 - val_accuracy: 0.6357\n"
     ]
    },
    {
     "data": {
      "text/plain": [
       "<keras.callbacks.History at 0x1d4321697c0>"
      ]
     },
     "execution_count": 14,
     "metadata": {},
     "output_type": "execute_result"
    }
   ],
   "source": [
    "cnn.fit(x = training_set, validation_data = test_set, epochs= 25)"
   ]
  },
  {
   "cell_type": "code",
   "execution_count": 15,
   "id": "5f4152e6",
   "metadata": {},
   "outputs": [],
   "source": [
    "import numpy as np\n",
    "from keras.preprocessing import image \n",
    "test_image = tf.keras.utils.load_img('C:/Users/haris/Downloads/Deep Learning/Cats_dogs/test/cats/cat_56.jpg',\n",
    "                           target_size = (64,64))"
   ]
  },
  {
   "cell_type": "code",
   "execution_count": 16,
   "id": "2ba6999a",
   "metadata": {},
   "outputs": [
    {
     "data": {
      "image/png": "[encoded data removed]",
      "text/plain": [
       "<PIL.Image.Image image mode=RGB size=64x64>"
      ]
     },
     "execution_count": 16,
     "metadata": {},
     "output_type": "execute_result"
    }
   ],
   "source": [
    "test_image"
   ]
  },
  {
   "cell_type": "code",
   "execution_count": 17,
   "id": "e50a6f0c",
   "metadata": {},
   "outputs": [
    {
     "data": {
      "text/plain": [
       "array([[[113.,  78.,  58.],\n",
       "        [124.,  89.,  69.],\n",
       "        [154., 121., 102.],\n",
       "        ...,\n",
       "        [127., 120.,  68.],\n",
       "        [176., 168., 131.],\n",
       "        [198., 192., 166.]],\n",
       "\n",
       "       [[123.,  89.,  64.],\n",
       "        [131.,  97.,  72.],\n",
       "        [152., 120.,  97.],\n",
       "        ...,\n",
       "        [136., 129.,  75.],\n",
       "        [128., 122.,  74.],\n",
       "        [178., 176., 135.]],\n",
       "\n",
       "       [[136., 100.,  74.],\n",
       "        [145., 109.,  83.],\n",
       "        [141., 105.,  79.],\n",
       "        ...,\n",
       "        [133., 126.,  74.],\n",
       "        [140., 134.,  84.],\n",
       "        [168., 165., 122.]],\n",
       "\n",
       "       ...,\n",
       "\n",
       "       [[ 32.,  28.,  29.],\n",
       "        [ 23.,  19.,  20.],\n",
       "        [ 29.,  25.,  26.],\n",
       "        ...,\n",
       "        [  9.,   9.,  11.],\n",
       "        [ 12.,  12.,  14.],\n",
       "        [  0.,   0.,   0.]],\n",
       "\n",
       "       [[ 36.,  32.,  33.],\n",
       "        [ 36.,  32.,  33.],\n",
       "        [ 18.,  14.,  15.],\n",
       "        ...,\n",
       "        [  2.,   2.,   4.],\n",
       "        [ 63.,  63.,  65.],\n",
       "        [ 74.,  74.,  74.]],\n",
       "\n",
       "       [[ 63.,  59.,  56.],\n",
       "        [ 93.,  85.,  83.],\n",
       "        [ 76.,  70.,  70.],\n",
       "        ...,\n",
       "        [ 74.,  74.,  74.],\n",
       "        [ 85.,  85.,  85.],\n",
       "        [ 72.,  72.,  74.]]], dtype=float32)"
      ]
     },
     "execution_count": 17,
     "metadata": {},
     "output_type": "execute_result"
    }
   ],
   "source": [
    "test_image = tf.keras.utils.img_to_array(test_image)\n",
    "test_image"
   ]
  },
  {
   "cell_type": "code",
   "execution_count": 18,
   "id": "ceabad18",
   "metadata": {},
   "outputs": [
    {
     "data": {
      "text/plain": [
       "array([[[[113.,  78.,  58.],\n",
       "         [124.,  89.,  69.],\n",
       "         [154., 121., 102.],\n",
       "         ...,\n",
       "         [127., 120.,  68.],\n",
       "         [176., 168., 131.],\n",
       "         [198., 192., 166.]],\n",
       "\n",
       "        [[123.,  89.,  64.],\n",
       "         [131.,  97.,  72.],\n",
       "         [152., 120.,  97.],\n",
       "         ...,\n",
       "         [136., 129.,  75.],\n",
       "         [128., 122.,  74.],\n",
       "         [178., 176., 135.]],\n",
       "\n",
       "        [[136., 100.,  74.],\n",
       "         [145., 109.,  83.],\n",
       "         [141., 105.,  79.],\n",
       "         ...,\n",
       "         [133., 126.,  74.],\n",
       "         [140., 134.,  84.],\n",
       "         [168., 165., 122.]],\n",
       "\n",
       "        ...,\n",
       "\n",
       "        [[ 32.,  28.,  29.],\n",
       "         [ 23.,  19.,  20.],\n",
       "         [ 29.,  25.,  26.],\n",
       "         ...,\n",
       "         [  9.,   9.,  11.],\n",
       "         [ 12.,  12.,  14.],\n",
       "         [  0.,   0.,   0.]],\n",
       "\n",
       "        [[ 36.,  32.,  33.],\n",
       "         [ 36.,  32.,  33.],\n",
       "         [ 18.,  14.,  15.],\n",
       "         ...,\n",
       "         [  2.,   2.,   4.],\n",
       "         [ 63.,  63.,  65.],\n",
       "         [ 74.,  74.,  74.]],\n",
       "\n",
       "        [[ 63.,  59.,  56.],\n",
       "         [ 93.,  85.,  83.],\n",
       "         [ 76.,  70.,  70.],\n",
       "         ...,\n",
       "         [ 74.,  74.,  74.],\n",
       "         [ 85.,  85.,  85.],\n",
       "         [ 72.,  72.,  74.]]]], dtype=float32)"
      ]
     },
     "execution_count": 18,
     "metadata": {},
     "output_type": "execute_result"
    }
   ],
   "source": [
    "test_image = np.expand_dims(test_image,axis=0)\n",
    "test_image"
   ]
  },
  {
   "cell_type": "code",
   "execution_count": 19,
   "id": "f1144b31",
   "metadata": {},
   "outputs": [
    {
     "name": "stdout",
     "output_type": "stream",
     "text": [
      "1/1 [==============================] - 0s 90ms/step\n"
     ]
    }
   ],
   "source": [
    "result =cnn.predict(test_image)"
   ]
  },
  {
   "cell_type": "code",
   "execution_count": 20,
   "id": "c6f63c62",
   "metadata": {},
   "outputs": [],
   "source": [
    "if result[0][0] == 1:\n",
    "    prediction = 'dog'\n",
    "else:\n",
    "    prediction = 'cat'"
   ]
  },
  {
   "cell_type": "code",
   "execution_count": 21,
   "id": "fe9858f9",
   "metadata": {},
   "outputs": [
    {
     "name": "stdout",
     "output_type": "stream",
     "text": [
      "cat\n"
     ]
    }
   ],
   "source": [
    "print(prediction)"
   ]
  },
  {
   "cell_type": "code",
   "execution_count": null,
   "id": "1deef420",
   "metadata": {},
   "outputs": [],
   "source": []
  }
 ],
 "metadata": {
  "kernelspec": {
   "display_name": "Python 3 (ipykernel)",
   "language": "python",
   "name": "python3"
  },
  "language_info": {
   "codemirror_mode": {
    "name": "ipython",
    "version": 3
   },
   "file_extension": ".py",
   "mimetype": "text/x-python",
   "name": "python",
   "nbconvert_exporter": "python",
   "pygments_lexer": "ipython3",
   "version": "3.9.13"
  }
 },
 "nbformat": 4,
 "nbformat_minor": 5
}
